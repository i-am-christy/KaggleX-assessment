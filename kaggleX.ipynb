{
 "cells": [
  {
   "cell_type": "markdown",
   "metadata": {},
   "source": [
    "To-do</br>\n",
    "load the data</br>\n",
    "check for missing data</br>\n",
    "do EDA, check the coorelation between each dat point</br>\n",
    "encode and scale the data</br>\n",
    "choose and build models</br>\n",
    "evaluate the models</br>\n",
    "do feature selection and emgineering</br>\n",
    "re-train the model and stack it using stacking model or voting model</br>\n",
    "clean the test data</br>\n",
    "do what was done to the trainf data</br>\n",
    "generate predictions using the ensembled model</br>\n",
    "print out submissions.</br>\n"
   ]
  },
  {
   "cell_type": "code",
   "execution_count": 1,
   "metadata": {},
   "outputs": [],
   "source": [
    "#installing libraries\n",
    "import pandas as pd\n",
    "import seaborn as sns\n",
    "import matplotlib.pyplot as plt\n",
    "%matplotlib inline\n",
    "import re"
   ]
  },
  {
   "cell_type": "code",
   "execution_count": 2,
   "metadata": {},
   "outputs": [
    {
     "data": {
      "text/html": [
       "<div>\n",
       "<style scoped>\n",
       "    .dataframe tbody tr th:only-of-type {\n",
       "        vertical-align: middle;\n",
       "    }\n",
       "\n",
       "    .dataframe tbody tr th {\n",
       "        vertical-align: top;\n",
       "    }\n",
       "\n",
       "    .dataframe thead th {\n",
       "        text-align: right;\n",
       "    }\n",
       "</style>\n",
       "<table border=\"1\" class=\"dataframe\">\n",
       "  <thead>\n",
       "    <tr style=\"text-align: right;\">\n",
       "      <th></th>\n",
       "      <th>id</th>\n",
       "      <th>brand</th>\n",
       "      <th>model</th>\n",
       "      <th>model_year</th>\n",
       "      <th>milage</th>\n",
       "      <th>fuel_type</th>\n",
       "      <th>engine</th>\n",
       "      <th>transmission</th>\n",
       "      <th>ext_col</th>\n",
       "      <th>int_col</th>\n",
       "      <th>accident</th>\n",
       "      <th>clean_title</th>\n",
       "      <th>price</th>\n",
       "    </tr>\n",
       "  </thead>\n",
       "  <tbody>\n",
       "    <tr>\n",
       "      <th>0</th>\n",
       "      <td>0</td>\n",
       "      <td>Ford</td>\n",
       "      <td>F-150 Lariat</td>\n",
       "      <td>2018</td>\n",
       "      <td>74349</td>\n",
       "      <td>Gasoline</td>\n",
       "      <td>375.0HP 3.5L V6 Cylinder Engine Gasoline Fuel</td>\n",
       "      <td>10-Speed A/T</td>\n",
       "      <td>Blue</td>\n",
       "      <td>Gray</td>\n",
       "      <td>None reported</td>\n",
       "      <td>Yes</td>\n",
       "      <td>11000</td>\n",
       "    </tr>\n",
       "    <tr>\n",
       "      <th>1</th>\n",
       "      <td>1</td>\n",
       "      <td>BMW</td>\n",
       "      <td>335 i</td>\n",
       "      <td>2007</td>\n",
       "      <td>80000</td>\n",
       "      <td>Gasoline</td>\n",
       "      <td>300.0HP 3.0L Straight 6 Cylinder Engine Gasoli...</td>\n",
       "      <td>6-Speed M/T</td>\n",
       "      <td>Black</td>\n",
       "      <td>Black</td>\n",
       "      <td>None reported</td>\n",
       "      <td>Yes</td>\n",
       "      <td>8250</td>\n",
       "    </tr>\n",
       "  </tbody>\n",
       "</table>\n",
       "</div>"
      ],
      "text/plain": [
       "   id brand         model  model_year  milage fuel_type  \\\n",
       "0   0  Ford  F-150 Lariat        2018   74349  Gasoline   \n",
       "1   1   BMW         335 i        2007   80000  Gasoline   \n",
       "\n",
       "                                              engine  transmission ext_col  \\\n",
       "0      375.0HP 3.5L V6 Cylinder Engine Gasoline Fuel  10-Speed A/T    Blue   \n",
       "1  300.0HP 3.0L Straight 6 Cylinder Engine Gasoli...   6-Speed M/T   Black   \n",
       "\n",
       "  int_col       accident clean_title  price  \n",
       "0    Gray  None reported         Yes  11000  \n",
       "1   Black  None reported         Yes   8250  "
      ]
     },
     "execution_count": 2,
     "metadata": {},
     "output_type": "execute_result"
    }
   ],
   "source": [
    "#reading thre training data\n",
    "train = pd.read_csv(\"train.csv\")\n",
    "train.head(2)"
   ]
  },
  {
   "cell_type": "code",
   "execution_count": 3,
   "metadata": {},
   "outputs": [
    {
     "data": {
      "text/html": [
       "<div>\n",
       "<style scoped>\n",
       "    .dataframe tbody tr th:only-of-type {\n",
       "        vertical-align: middle;\n",
       "    }\n",
       "\n",
       "    .dataframe tbody tr th {\n",
       "        vertical-align: top;\n",
       "    }\n",
       "\n",
       "    .dataframe thead th {\n",
       "        text-align: right;\n",
       "    }\n",
       "</style>\n",
       "<table border=\"1\" class=\"dataframe\">\n",
       "  <thead>\n",
       "    <tr style=\"text-align: right;\">\n",
       "      <th></th>\n",
       "      <th>id</th>\n",
       "      <th>brand</th>\n",
       "      <th>model</th>\n",
       "      <th>model_year</th>\n",
       "      <th>milage</th>\n",
       "      <th>fuel_type</th>\n",
       "      <th>engine</th>\n",
       "      <th>transmission</th>\n",
       "      <th>ext_col</th>\n",
       "      <th>int_col</th>\n",
       "      <th>accident</th>\n",
       "      <th>clean_title</th>\n",
       "    </tr>\n",
       "  </thead>\n",
       "  <tbody>\n",
       "    <tr>\n",
       "      <th>0</th>\n",
       "      <td>54273</td>\n",
       "      <td>Mercedes-Benz</td>\n",
       "      <td>E-Class E 350</td>\n",
       "      <td>2014</td>\n",
       "      <td>73000</td>\n",
       "      <td>Gasoline</td>\n",
       "      <td>302.0HP 3.5L V6 Cylinder Engine Gasoline Fuel</td>\n",
       "      <td>A/T</td>\n",
       "      <td>White</td>\n",
       "      <td>Beige</td>\n",
       "      <td>None reported</td>\n",
       "      <td>Yes</td>\n",
       "    </tr>\n",
       "    <tr>\n",
       "      <th>1</th>\n",
       "      <td>54274</td>\n",
       "      <td>Lexus</td>\n",
       "      <td>RX 350 Base</td>\n",
       "      <td>2015</td>\n",
       "      <td>128032</td>\n",
       "      <td>Gasoline</td>\n",
       "      <td>275.0HP 3.5L V6 Cylinder Engine Gasoline Fuel</td>\n",
       "      <td>8-Speed A/T</td>\n",
       "      <td>Silver</td>\n",
       "      <td>Black</td>\n",
       "      <td>None reported</td>\n",
       "      <td>Yes</td>\n",
       "    </tr>\n",
       "  </tbody>\n",
       "</table>\n",
       "</div>"
      ],
      "text/plain": [
       "      id          brand          model  model_year  milage fuel_type  \\\n",
       "0  54273  Mercedes-Benz  E-Class E 350        2014   73000  Gasoline   \n",
       "1  54274          Lexus    RX 350 Base        2015  128032  Gasoline   \n",
       "\n",
       "                                          engine transmission ext_col int_col  \\\n",
       "0  302.0HP 3.5L V6 Cylinder Engine Gasoline Fuel          A/T   White   Beige   \n",
       "1  275.0HP 3.5L V6 Cylinder Engine Gasoline Fuel  8-Speed A/T  Silver   Black   \n",
       "\n",
       "        accident clean_title  \n",
       "0  None reported         Yes  \n",
       "1  None reported         Yes  "
      ]
     },
     "execution_count": 3,
     "metadata": {},
     "output_type": "execute_result"
    }
   ],
   "source": [
    "#reading the test dat\n",
    "test = pd.read_csv(\"test.csv\")\n",
    "test.head(2)"
   ]
  },
  {
   "cell_type": "code",
   "execution_count": 4,
   "metadata": {},
   "outputs": [
    {
     "name": "stdout",
     "output_type": "stream",
     "text": [
      "<class 'pandas.core.frame.DataFrame'>\n",
      "RangeIndex: 54273 entries, 0 to 54272\n",
      "Data columns (total 13 columns):\n",
      " #   Column        Non-Null Count  Dtype \n",
      "---  ------        --------------  ----- \n",
      " 0   id            54273 non-null  int64 \n",
      " 1   brand         54273 non-null  object\n",
      " 2   model         54273 non-null  object\n",
      " 3   model_year    54273 non-null  int64 \n",
      " 4   milage        54273 non-null  int64 \n",
      " 5   fuel_type     54273 non-null  object\n",
      " 6   engine        54273 non-null  object\n",
      " 7   transmission  54273 non-null  object\n",
      " 8   ext_col       54273 non-null  object\n",
      " 9   int_col       54273 non-null  object\n",
      " 10  accident      54273 non-null  object\n",
      " 11  clean_title   54273 non-null  object\n",
      " 12  price         54273 non-null  int64 \n",
      "dtypes: int64(4), object(9)\n",
      "memory usage: 5.4+ MB\n"
     ]
    }
   ],
   "source": [
    "#checking infromation about the data\n",
    "train.info()"
   ]
  },
  {
   "cell_type": "code",
   "execution_count": 5,
   "metadata": {},
   "outputs": [
    {
     "name": "stdout",
     "output_type": "stream",
     "text": [
      "<class 'pandas.core.frame.DataFrame'>\n",
      "RangeIndex: 36183 entries, 0 to 36182\n",
      "Data columns (total 12 columns):\n",
      " #   Column        Non-Null Count  Dtype \n",
      "---  ------        --------------  ----- \n",
      " 0   id            36183 non-null  int64 \n",
      " 1   brand         36183 non-null  object\n",
      " 2   model         36183 non-null  object\n",
      " 3   model_year    36183 non-null  int64 \n",
      " 4   milage        36183 non-null  int64 \n",
      " 5   fuel_type     36183 non-null  object\n",
      " 6   engine        36183 non-null  object\n",
      " 7   transmission  36183 non-null  object\n",
      " 8   ext_col       36183 non-null  object\n",
      " 9   int_col       36183 non-null  object\n",
      " 10  accident      36183 non-null  object\n",
      " 11  clean_title   36183 non-null  object\n",
      "dtypes: int64(3), object(9)\n",
      "memory usage: 3.3+ MB\n"
     ]
    }
   ],
   "source": [
    "#for test\n",
    "test.info()"
   ]
  },
  {
   "cell_type": "markdown",
   "metadata": {},
   "source": [
    "the catch here is how to encode the data properly so as not to cause any form of data leakage"
   ]
  },
  {
   "cell_type": "markdown",
   "metadata": {},
   "source": [
    "<p>Checking for missing data</p>"
   ]
  },
  {
   "cell_type": "code",
   "execution_count": 6,
   "metadata": {},
   "outputs": [
    {
     "data": {
      "text/plain": [
       "id              0\n",
       "brand           0\n",
       "model           0\n",
       "model_year      0\n",
       "milage          0\n",
       "fuel_type       0\n",
       "engine          0\n",
       "transmission    0\n",
       "ext_col         0\n",
       "int_col         0\n",
       "accident        0\n",
       "clean_title     0\n",
       "price           0\n",
       "dtype: int64"
      ]
     },
     "execution_count": 6,
     "metadata": {},
     "output_type": "execute_result"
    }
   ],
   "source": [
    "#check for missing data\n",
    "train.isna().sum()"
   ]
  },
  {
   "cell_type": "code",
   "execution_count": 7,
   "metadata": {},
   "outputs": [
    {
     "data": {
      "text/plain": [
       "id              0\n",
       "brand           0\n",
       "model           0\n",
       "model_year      0\n",
       "milage          0\n",
       "fuel_type       0\n",
       "engine          0\n",
       "transmission    0\n",
       "ext_col         0\n",
       "int_col         0\n",
       "accident        0\n",
       "clean_title     0\n",
       "dtype: int64"
      ]
     },
     "execution_count": 7,
     "metadata": {},
     "output_type": "execute_result"
    }
   ],
   "source": [
    "#for the test data\n",
    "test.isnull().sum()"
   ]
  },
  {
   "cell_type": "markdown",
   "metadata": {},
   "source": [
    "<p>reset index to id</p>"
   ]
  },
  {
   "cell_type": "code",
   "execution_count": 8,
   "metadata": {},
   "outputs": [
    {
     "data": {
      "text/html": [
       "<div>\n",
       "<style scoped>\n",
       "    .dataframe tbody tr th:only-of-type {\n",
       "        vertical-align: middle;\n",
       "    }\n",
       "\n",
       "    .dataframe tbody tr th {\n",
       "        vertical-align: top;\n",
       "    }\n",
       "\n",
       "    .dataframe thead th {\n",
       "        text-align: right;\n",
       "    }\n",
       "</style>\n",
       "<table border=\"1\" class=\"dataframe\">\n",
       "  <thead>\n",
       "    <tr style=\"text-align: right;\">\n",
       "      <th></th>\n",
       "      <th>brand</th>\n",
       "      <th>model</th>\n",
       "      <th>model_year</th>\n",
       "      <th>milage</th>\n",
       "      <th>fuel_type</th>\n",
       "      <th>engine</th>\n",
       "      <th>transmission</th>\n",
       "      <th>ext_col</th>\n",
       "      <th>int_col</th>\n",
       "      <th>accident</th>\n",
       "      <th>clean_title</th>\n",
       "      <th>price</th>\n",
       "    </tr>\n",
       "    <tr>\n",
       "      <th>id</th>\n",
       "      <th></th>\n",
       "      <th></th>\n",
       "      <th></th>\n",
       "      <th></th>\n",
       "      <th></th>\n",
       "      <th></th>\n",
       "      <th></th>\n",
       "      <th></th>\n",
       "      <th></th>\n",
       "      <th></th>\n",
       "      <th></th>\n",
       "      <th></th>\n",
       "    </tr>\n",
       "  </thead>\n",
       "  <tbody>\n",
       "    <tr>\n",
       "      <th>0</th>\n",
       "      <td>Ford</td>\n",
       "      <td>F-150 Lariat</td>\n",
       "      <td>2018</td>\n",
       "      <td>74349</td>\n",
       "      <td>Gasoline</td>\n",
       "      <td>375.0HP 3.5L V6 Cylinder Engine Gasoline Fuel</td>\n",
       "      <td>10-Speed A/T</td>\n",
       "      <td>Blue</td>\n",
       "      <td>Gray</td>\n",
       "      <td>None reported</td>\n",
       "      <td>Yes</td>\n",
       "      <td>11000</td>\n",
       "    </tr>\n",
       "    <tr>\n",
       "      <th>1</th>\n",
       "      <td>BMW</td>\n",
       "      <td>335 i</td>\n",
       "      <td>2007</td>\n",
       "      <td>80000</td>\n",
       "      <td>Gasoline</td>\n",
       "      <td>300.0HP 3.0L Straight 6 Cylinder Engine Gasoli...</td>\n",
       "      <td>6-Speed M/T</td>\n",
       "      <td>Black</td>\n",
       "      <td>Black</td>\n",
       "      <td>None reported</td>\n",
       "      <td>Yes</td>\n",
       "      <td>8250</td>\n",
       "    </tr>\n",
       "  </tbody>\n",
       "</table>\n",
       "</div>"
      ],
      "text/plain": [
       "   brand         model  model_year  milage fuel_type  \\\n",
       "id                                                     \n",
       "0   Ford  F-150 Lariat        2018   74349  Gasoline   \n",
       "1    BMW         335 i        2007   80000  Gasoline   \n",
       "\n",
       "                                               engine  transmission ext_col  \\\n",
       "id                                                                            \n",
       "0       375.0HP 3.5L V6 Cylinder Engine Gasoline Fuel  10-Speed A/T    Blue   \n",
       "1   300.0HP 3.0L Straight 6 Cylinder Engine Gasoli...   6-Speed M/T   Black   \n",
       "\n",
       "   int_col       accident clean_title  price  \n",
       "id                                            \n",
       "0     Gray  None reported         Yes  11000  \n",
       "1    Black  None reported         Yes   8250  "
      ]
     },
     "execution_count": 8,
     "metadata": {},
     "output_type": "execute_result"
    }
   ],
   "source": [
    "train.set_index('id', inplace=True)\n",
    "train.head(2)"
   ]
  },
  {
   "cell_type": "code",
   "execution_count": 9,
   "metadata": {},
   "outputs": [
    {
     "data": {
      "text/html": [
       "<div>\n",
       "<style scoped>\n",
       "    .dataframe tbody tr th:only-of-type {\n",
       "        vertical-align: middle;\n",
       "    }\n",
       "\n",
       "    .dataframe tbody tr th {\n",
       "        vertical-align: top;\n",
       "    }\n",
       "\n",
       "    .dataframe thead th {\n",
       "        text-align: right;\n",
       "    }\n",
       "</style>\n",
       "<table border=\"1\" class=\"dataframe\">\n",
       "  <thead>\n",
       "    <tr style=\"text-align: right;\">\n",
       "      <th></th>\n",
       "      <th>brand</th>\n",
       "      <th>model</th>\n",
       "      <th>model_year</th>\n",
       "      <th>milage</th>\n",
       "      <th>fuel_type</th>\n",
       "      <th>engine</th>\n",
       "      <th>transmission</th>\n",
       "      <th>ext_col</th>\n",
       "      <th>int_col</th>\n",
       "      <th>accident</th>\n",
       "      <th>clean_title</th>\n",
       "    </tr>\n",
       "    <tr>\n",
       "      <th>id</th>\n",
       "      <th></th>\n",
       "      <th></th>\n",
       "      <th></th>\n",
       "      <th></th>\n",
       "      <th></th>\n",
       "      <th></th>\n",
       "      <th></th>\n",
       "      <th></th>\n",
       "      <th></th>\n",
       "      <th></th>\n",
       "      <th></th>\n",
       "    </tr>\n",
       "  </thead>\n",
       "  <tbody>\n",
       "    <tr>\n",
       "      <th>54273</th>\n",
       "      <td>Mercedes-Benz</td>\n",
       "      <td>E-Class E 350</td>\n",
       "      <td>2014</td>\n",
       "      <td>73000</td>\n",
       "      <td>Gasoline</td>\n",
       "      <td>302.0HP 3.5L V6 Cylinder Engine Gasoline Fuel</td>\n",
       "      <td>A/T</td>\n",
       "      <td>White</td>\n",
       "      <td>Beige</td>\n",
       "      <td>None reported</td>\n",
       "      <td>Yes</td>\n",
       "    </tr>\n",
       "    <tr>\n",
       "      <th>54274</th>\n",
       "      <td>Lexus</td>\n",
       "      <td>RX 350 Base</td>\n",
       "      <td>2015</td>\n",
       "      <td>128032</td>\n",
       "      <td>Gasoline</td>\n",
       "      <td>275.0HP 3.5L V6 Cylinder Engine Gasoline Fuel</td>\n",
       "      <td>8-Speed A/T</td>\n",
       "      <td>Silver</td>\n",
       "      <td>Black</td>\n",
       "      <td>None reported</td>\n",
       "      <td>Yes</td>\n",
       "    </tr>\n",
       "  </tbody>\n",
       "</table>\n",
       "</div>"
      ],
      "text/plain": [
       "               brand          model  model_year  milage fuel_type  \\\n",
       "id                                                                  \n",
       "54273  Mercedes-Benz  E-Class E 350        2014   73000  Gasoline   \n",
       "54274          Lexus    RX 350 Base        2015  128032  Gasoline   \n",
       "\n",
       "                                              engine transmission ext_col  \\\n",
       "id                                                                          \n",
       "54273  302.0HP 3.5L V6 Cylinder Engine Gasoline Fuel          A/T   White   \n",
       "54274  275.0HP 3.5L V6 Cylinder Engine Gasoline Fuel  8-Speed A/T  Silver   \n",
       "\n",
       "      int_col       accident clean_title  \n",
       "id                                        \n",
       "54273   Beige  None reported         Yes  \n",
       "54274   Black  None reported         Yes  "
      ]
     },
     "execution_count": 9,
     "metadata": {},
     "output_type": "execute_result"
    }
   ],
   "source": [
    "#for test\n",
    "test.set_index('id', inplace=True)\n",
    "test.head(2)"
   ]
  },
  {
   "cell_type": "markdown",
   "metadata": {},
   "source": [
    "Some EDA babies"
   ]
  },
  {
   "cell_type": "markdown",
   "metadata": {},
   "source": [
    "fro the feture engineering, i will divide the engine column further using excel <br/>\n",
    "horsepower <br/>cylinder volume <br/>engine type<br/>cranshaft configuration <br/>turbo charging"
   ]
  },
  {
   "cell_type": "markdown",
   "metadata": {},
   "source": [
    "using regex to divide the engine feature into more features to help the model understand the data better"
   ]
  },
  {
   "cell_type": "code",
   "execution_count": 10,
   "metadata": {},
   "outputs": [],
   "source": [
    "# Sample dataset\n",
    "engine_data = train['engine'].to_list()\n",
    "\n",
    "# Regular expression pattern\n",
    "pattern = re.compile(r\"\"\"\n",
    "    (?P<horsepower>\\d+\\.?\\d*)HP\\s+          # Horsepower (optional)\n",
    "    (?P<fuel_displacement>\\d+\\.?\\d*)L\\s+         # Displacement\n",
    "    (?P<engine_configuration>Straight|V|H)\\s*      # Engine configuration\n",
    "    (?P<no_of_cylinders>\\d+)\\s*                   # Number of cylinders\n",
    "    (Cylinder\\s+Engine\\s+)?                 # Optional \"Cylinder Engine\" text\n",
    "    (?P<additional>[\\w\\s/]+)\\s*           # Additional descriptors (optional)\n",
    "    \"\"\", re.VERBOSE)"
   ]
  },
  {
   "cell_type": "code",
   "execution_count": 13,
   "metadata": {},
   "outputs": [],
   "source": [
    "# Define additional feature patterns\n",
    "feature_patterns = {\n",
    "        'fuel_injection_type': r'\\b(GDI|PDI|MPI|HCCI|CIS|EFI|CRDI|DI|SFI|MPFI|PFITBI|SPU|PFI|GTDI)\\b',\n",
    "        'crankshaft_configuration': r'\\b(DOHC|SOHC|OHV|VVT|VVL)\\b',\n",
    "        'turbo_charging': r'\\b(Turbo|Twin Turbo|Electric Turbo|Sequential Turbo)\\b',\n",
    "        'number_of_valves': r'\\b(\\d+V)\\b',\n",
    "    }\n",
    "# Function to parse additional descriptors\n",
    "def parse_additional(additional, feature_patterns):\n",
    "    features = {}\n",
    "    for feature, fp in feature_patterns.items():\n",
    "        match = re.search(fp, additional, re.IGNORECASE)\n",
    "        if match:\n",
    "            features[feature] = match.group(0)\n",
    "\n",
    "    return features\n"
   ]
  },
  {
   "cell_type": "code",
   "execution_count": 14,
   "metadata": {},
   "outputs": [
    {
     "data": {
      "text/html": [
       "<div>\n",
       "<style scoped>\n",
       "    .dataframe tbody tr th:only-of-type {\n",
       "        vertical-align: middle;\n",
       "    }\n",
       "\n",
       "    .dataframe tbody tr th {\n",
       "        vertical-align: top;\n",
       "    }\n",
       "\n",
       "    .dataframe thead th {\n",
       "        text-align: right;\n",
       "    }\n",
       "</style>\n",
       "<table border=\"1\" class=\"dataframe\">\n",
       "  <thead>\n",
       "    <tr style=\"text-align: right;\">\n",
       "      <th></th>\n",
       "      <th>horsepower</th>\n",
       "      <th>fuel_displacement</th>\n",
       "      <th>engine_configuration</th>\n",
       "      <th>no_of_cylinders</th>\n",
       "      <th>additional</th>\n",
       "    </tr>\n",
       "  </thead>\n",
       "  <tbody>\n",
       "    <tr>\n",
       "      <th>0</th>\n",
       "      <td>375.0</td>\n",
       "      <td>3.5</td>\n",
       "      <td>V</td>\n",
       "      <td>6</td>\n",
       "      <td>Gasoline Fuel</td>\n",
       "    </tr>\n",
       "    <tr>\n",
       "      <th>1</th>\n",
       "      <td>300.0</td>\n",
       "      <td>3.0</td>\n",
       "      <td>Straight</td>\n",
       "      <td>6</td>\n",
       "      <td>Gasoline Fuel</td>\n",
       "    </tr>\n",
       "  </tbody>\n",
       "</table>\n",
       "</div>"
      ],
      "text/plain": [
       "  horsepower fuel_displacement engine_configuration no_of_cylinders  \\\n",
       "0      375.0               3.5                    V               6   \n",
       "1      300.0               3.0             Straight               6   \n",
       "\n",
       "      additional  \n",
       "0  Gasoline Fuel  \n",
       "1  Gasoline Fuel  "
      ]
     },
     "execution_count": 14,
     "metadata": {},
     "output_type": "execute_result"
    }
   ],
   "source": [
    "# Extract components and store them in a list of dictionaries\n",
    "extracted_data = []\n",
    "for engine in engine_data:\n",
    "    match = pattern.search(engine)\n",
    "    if match:\n",
    "        data = match.groupdict()\n",
    "        additional_features = parse_additional(data['additional'], feature_patterns)\n",
    "        data.update(additional_features)\n",
    "        extracted_data.append(data)\n",
    "\n",
    "# Convert to a DataFrame\n",
    "df = pd.DataFrame(extracted_data)\n",
    "\n",
    "# Display the DataFrame\n",
    "df.head(2)\n"
   ]
  },
  {
   "cell_type": "code",
   "execution_count": 13,
   "metadata": {},
   "outputs": [
    {
     "data": {
      "text/html": [
       "<div>\n",
       "<style scoped>\n",
       "    .dataframe tbody tr th:only-of-type {\n",
       "        vertical-align: middle;\n",
       "    }\n",
       "\n",
       "    .dataframe tbody tr th {\n",
       "        vertical-align: top;\n",
       "    }\n",
       "\n",
       "    .dataframe thead th {\n",
       "        text-align: right;\n",
       "    }\n",
       "</style>\n",
       "<table border=\"1\" class=\"dataframe\">\n",
       "  <thead>\n",
       "    <tr style=\"text-align: right;\">\n",
       "      <th></th>\n",
       "      <th>horsepower</th>\n",
       "      <th>fuel_displacement</th>\n",
       "      <th>engine_configuration</th>\n",
       "      <th>no_of_cylinders</th>\n",
       "      <th>additional</th>\n",
       "      <th>fuel_injection_type</th>\n",
       "      <th>crankshaft_configuration</th>\n",
       "      <th>turbo_charging</th>\n",
       "      <th>number_of_valves</th>\n",
       "      <th>fuel_type</th>\n",
       "    </tr>\n",
       "  </thead>\n",
       "  <tbody>\n",
       "    <tr>\n",
       "      <th>0</th>\n",
       "      <td>375.0</td>\n",
       "      <td>3.5</td>\n",
       "      <td>V</td>\n",
       "      <td>6</td>\n",
       "      <td>Gasoline Fuel</td>\n",
       "      <td>None</td>\n",
       "      <td>None</td>\n",
       "      <td>None</td>\n",
       "      <td>None</td>\n",
       "      <td>Gasoline</td>\n",
       "    </tr>\n",
       "    <tr>\n",
       "      <th>1</th>\n",
       "      <td>300.0</td>\n",
       "      <td>3.0</td>\n",
       "      <td>Straight</td>\n",
       "      <td>6</td>\n",
       "      <td>Gasoline Fuel</td>\n",
       "      <td>None</td>\n",
       "      <td>None</td>\n",
       "      <td>None</td>\n",
       "      <td>None</td>\n",
       "      <td>Gasoline</td>\n",
       "    </tr>\n",
       "  </tbody>\n",
       "</table>\n",
       "</div>"
      ],
      "text/plain": [
       "  horsepower fuel_displacement engine_configuration no_of_cylinders  \\\n",
       "0      375.0               3.5                    V               6   \n",
       "1      300.0               3.0             Straight               6   \n",
       "\n",
       "      additional fuel_injection_type crankshaft_configuration turbo_charging  \\\n",
       "0  Gasoline Fuel                None                     None           None   \n",
       "1  Gasoline Fuel                None                     None           None   \n",
       "\n",
       "  number_of_valves fuel_type  \n",
       "0             None  Gasoline  \n",
       "1             None  Gasoline  "
      ]
     },
     "execution_count": 13,
     "metadata": {},
     "output_type": "execute_result"
    }
   ],
   "source": [
    "#adding the fuel type column\n",
    "df['fuel_type'] = train['fuel_type']\n",
    "df.head(2)"
   ]
  },
  {
   "cell_type": "code",
   "execution_count": 27,
   "metadata": {},
   "outputs": [
    {
     "data": {
      "text/plain": [
       "horsepower                      0\n",
       "fuel_displacement               0\n",
       "engine_configuration            0\n",
       "no_of_cylinders                 0\n",
       "additional                      0\n",
       "fuel_injection_type         21080\n",
       "crankshaft_configuration    21080\n",
       "turbo_charging              21080\n",
       "number_of_valves            21080\n",
       "dtype: int64"
      ]
     },
     "execution_count": 27,
     "metadata": {},
     "output_type": "execute_result"
    }
   ],
   "source": [
    "df.isnull().sum()"
   ]
  },
  {
   "cell_type": "markdown",
   "metadata": {},
   "source": [
    "data imputation"
   ]
  },
  {
   "cell_type": "code",
   "execution_count": 15,
   "metadata": {},
   "outputs": [
    {
     "name": "stdout",
     "output_type": "stream",
     "text": [
      "<class 'pandas.core.frame.DataFrame'>\n",
      "RangeIndex: 21080 entries, 0 to 21079\n",
      "Data columns (total 10 columns):\n",
      " #   Column                    Non-Null Count  Dtype \n",
      "---  ------                    --------------  ----- \n",
      " 0   horsepower                21080 non-null  object\n",
      " 1   fuel_displacement         21080 non-null  object\n",
      " 2   engine_configuration      21080 non-null  object\n",
      " 3   no_of_cylinders           21080 non-null  object\n",
      " 4   additional                21080 non-null  object\n",
      " 5   fuel_injection_type       385 non-null    object\n",
      " 6   crankshaft_configuration  0 non-null      object\n",
      " 7   turbo_charging            0 non-null      object\n",
      " 8   number_of_valves          0 non-null      object\n",
      " 9   fuel_type                 21080 non-null  object\n",
      "dtypes: object(10)\n",
      "memory usage: 1.6+ MB\n"
     ]
    }
   ],
   "source": [
    "df.info()"
   ]
  },
  {
   "cell_type": "code",
   "execution_count": 16,
   "metadata": {},
   "outputs": [],
   "source": [
    "df['fuel_displacement'] = df.fuel_displacement.astype('float')\n",
    "df['no_of_cylinders'] = df.no_of_cylinders.astype('int')\n",
    "df['horsepower'] = df.horsepower.astype('float')\n",
    "#df['number_of_valves'] = df.number_of_valves.astype('int')"
   ]
  },
  {
   "cell_type": "code",
   "execution_count": 17,
   "metadata": {},
   "outputs": [
    {
     "name": "stdout",
     "output_type": "stream",
     "text": [
      "<class 'pandas.core.frame.DataFrame'>\n",
      "RangeIndex: 21080 entries, 0 to 21079\n",
      "Data columns (total 10 columns):\n",
      " #   Column                    Non-Null Count  Dtype  \n",
      "---  ------                    --------------  -----  \n",
      " 0   horsepower                21080 non-null  float64\n",
      " 1   fuel_displacement         21080 non-null  float64\n",
      " 2   engine_configuration      21080 non-null  object \n",
      " 3   no_of_cylinders           21080 non-null  int32  \n",
      " 4   additional                21080 non-null  object \n",
      " 5   fuel_injection_type       385 non-null    object \n",
      " 6   crankshaft_configuration  0 non-null      object \n",
      " 7   turbo_charging            0 non-null      object \n",
      " 8   number_of_valves          0 non-null      object \n",
      " 9   fuel_type                 21080 non-null  object \n",
      "dtypes: float64(2), int32(1), object(7)\n",
      "memory usage: 1.5+ MB\n"
     ]
    }
   ],
   "source": [
    "df.info()"
   ]
  },
  {
   "cell_type": "code",
   "execution_count": 18,
   "metadata": {},
   "outputs": [],
   "source": [
    "# Function to determine the fuel injection type\n",
    "def determine_fuel_injection(fuel_type, no_of_cylinders, fuel_displacement):\n",
    "    if fuel_type == 'Diesel':\n",
    "        if no_of_cylinders > 4:\n",
    "            return 'CRDI'  # Common Rail Direct Injection for diesel engines with more than 4 cylinders\n",
    "        else:\n",
    "            return 'Direct Injection'  # Direct Injection for smaller diesel engines\n",
    "    elif fuel_type == 'Gasoline':\n",
    "        if fuel_displacement >= 3.0:\n",
    "            return 'GDI'  # Gasoline Direct Injection for larger gasoline engines\n",
    "        elif no_of_cylinders > 4:\n",
    "            return 'MPFI'  # Multi-Point Fuel Injection for larger gasoline engines with more cylinders\n",
    "        else:\n",
    "            return 'PFI'  # Port Fuel Injection for smaller gasoline engines\n",
    "    else:\n",
    "        return 'None'"
   ]
  },
  {
   "cell_type": "code",
   "execution_count": 19,
   "metadata": {},
   "outputs": [],
   "source": [
    "\n",
    "# Apply the function to fill in missing fuel injection types\n",
    "df['fuel_injection_type'] = df.apply(\n",
    "    lambda row: row['fuel_injection_type'] if row['fuel_injection_type'] else determine_fuel_injection(row['fuel_type'], row['no_of_cylinders'], row['fuel_displacement']),\n",
    "    axis=1\n",
    ")"
   ]
  },
  {
   "cell_type": "code",
   "execution_count": 20,
   "metadata": {},
   "outputs": [
    {
     "data": {
      "text/html": [
       "<div>\n",
       "<style scoped>\n",
       "    .dataframe tbody tr th:only-of-type {\n",
       "        vertical-align: middle;\n",
       "    }\n",
       "\n",
       "    .dataframe tbody tr th {\n",
       "        vertical-align: top;\n",
       "    }\n",
       "\n",
       "    .dataframe thead th {\n",
       "        text-align: right;\n",
       "    }\n",
       "</style>\n",
       "<table border=\"1\" class=\"dataframe\">\n",
       "  <thead>\n",
       "    <tr style=\"text-align: right;\">\n",
       "      <th></th>\n",
       "      <th>horsepower</th>\n",
       "      <th>fuel_displacement</th>\n",
       "      <th>engine_configuration</th>\n",
       "      <th>no_of_cylinders</th>\n",
       "      <th>additional</th>\n",
       "      <th>fuel_injection_type</th>\n",
       "      <th>crankshaft_configuration</th>\n",
       "      <th>turbo_charging</th>\n",
       "      <th>number_of_valves</th>\n",
       "      <th>fuel_type</th>\n",
       "    </tr>\n",
       "  </thead>\n",
       "  <tbody>\n",
       "    <tr>\n",
       "      <th>0</th>\n",
       "      <td>375.0</td>\n",
       "      <td>3.5</td>\n",
       "      <td>V</td>\n",
       "      <td>6</td>\n",
       "      <td>Gasoline Fuel</td>\n",
       "      <td>GDI</td>\n",
       "      <td>None</td>\n",
       "      <td>None</td>\n",
       "      <td>None</td>\n",
       "      <td>Gasoline</td>\n",
       "    </tr>\n",
       "    <tr>\n",
       "      <th>1</th>\n",
       "      <td>300.0</td>\n",
       "      <td>3.0</td>\n",
       "      <td>Straight</td>\n",
       "      <td>6</td>\n",
       "      <td>Gasoline Fuel</td>\n",
       "      <td>GDI</td>\n",
       "      <td>None</td>\n",
       "      <td>None</td>\n",
       "      <td>None</td>\n",
       "      <td>Gasoline</td>\n",
       "    </tr>\n",
       "  </tbody>\n",
       "</table>\n",
       "</div>"
      ],
      "text/plain": [
       "   horsepower  fuel_displacement engine_configuration  no_of_cylinders  \\\n",
       "0       375.0                3.5                    V                6   \n",
       "1       300.0                3.0             Straight                6   \n",
       "\n",
       "      additional fuel_injection_type crankshaft_configuration turbo_charging  \\\n",
       "0  Gasoline Fuel                 GDI                     None           None   \n",
       "1  Gasoline Fuel                 GDI                     None           None   \n",
       "\n",
       "  number_of_valves fuel_type  \n",
       "0             None  Gasoline  \n",
       "1             None  Gasoline  "
      ]
     },
     "execution_count": 20,
     "metadata": {},
     "output_type": "execute_result"
    }
   ],
   "source": [
    "# Display the DataFrame\n",
    "df.head(2)"
   ]
  },
  {
   "cell_type": "code",
   "execution_count": 21,
   "metadata": {},
   "outputs": [
    {
     "data": {
      "text/plain": [
       "horsepower                      0\n",
       "fuel_displacement               0\n",
       "engine_configuration            0\n",
       "no_of_cylinders                 0\n",
       "additional                      0\n",
       "fuel_injection_type             0\n",
       "crankshaft_configuration    21080\n",
       "turbo_charging              21080\n",
       "number_of_valves            21080\n",
       "fuel_type                       0\n",
       "dtype: int64"
      ]
     },
     "execution_count": 21,
     "metadata": {},
     "output_type": "execute_result"
    }
   ],
   "source": [
    "df.isnull().sum()"
   ]
  },
  {
   "cell_type": "code",
   "execution_count": 22,
   "metadata": {},
   "outputs": [
    {
     "data": {
      "text/html": [
       "<div>\n",
       "<style scoped>\n",
       "    .dataframe tbody tr th:only-of-type {\n",
       "        vertical-align: middle;\n",
       "    }\n",
       "\n",
       "    .dataframe tbody tr th {\n",
       "        vertical-align: top;\n",
       "    }\n",
       "\n",
       "    .dataframe thead th {\n",
       "        text-align: right;\n",
       "    }\n",
       "</style>\n",
       "<table border=\"1\" class=\"dataframe\">\n",
       "  <thead>\n",
       "    <tr style=\"text-align: right;\">\n",
       "      <th></th>\n",
       "      <th>horsepower</th>\n",
       "      <th>fuel_displacement</th>\n",
       "      <th>engine_configuration</th>\n",
       "      <th>no_of_cylinders</th>\n",
       "      <th>additional</th>\n",
       "      <th>fuel_injection_type</th>\n",
       "    </tr>\n",
       "  </thead>\n",
       "  <tbody>\n",
       "    <tr>\n",
       "      <th>0</th>\n",
       "      <td>375.0</td>\n",
       "      <td>3.5</td>\n",
       "      <td>V</td>\n",
       "      <td>6</td>\n",
       "      <td>Gasoline Fuel</td>\n",
       "      <td>GDI</td>\n",
       "    </tr>\n",
       "    <tr>\n",
       "      <th>1</th>\n",
       "      <td>300.0</td>\n",
       "      <td>3.0</td>\n",
       "      <td>Straight</td>\n",
       "      <td>6</td>\n",
       "      <td>Gasoline Fuel</td>\n",
       "      <td>GDI</td>\n",
       "    </tr>\n",
       "  </tbody>\n",
       "</table>\n",
       "</div>"
      ],
      "text/plain": [
       "   horsepower  fuel_displacement engine_configuration  no_of_cylinders  \\\n",
       "0       375.0                3.5                    V                6   \n",
       "1       300.0                3.0             Straight                6   \n",
       "\n",
       "      additional fuel_injection_type  \n",
       "0  Gasoline Fuel                 GDI  \n",
       "1  Gasoline Fuel                 GDI  "
      ]
     },
     "execution_count": 22,
     "metadata": {},
     "output_type": "execute_result"
    }
   ],
   "source": [
    "#dropping columns with hefty missing values\n",
    "df.drop(labels=['number_of_valves','turbo_charging' ,'crankshaft_configuration', 'fuel_type'], inplace=True, axis=1)\n",
    "df.head(2)"
   ]
  },
  {
   "cell_type": "code",
   "execution_count": 23,
   "metadata": {},
   "outputs": [
    {
     "data": {
      "text/plain": [
       "additional\n",
       "Gasoline Fuel                    19128\n",
       "Gasoline/Mild Electric Hybrid     1023\n",
       "Diesel Fuel                        385\n",
       "Flex Fuel Capability               282\n",
       "Gas/Electric Hybrid                220\n",
       "Plug                                42\n",
       "Name: count, dtype: int64"
      ]
     },
     "execution_count": 23,
     "metadata": {},
     "output_type": "execute_result"
    }
   ],
   "source": [
    "df['additional'].value_counts()"
   ]
  },
  {
   "cell_type": "code",
   "execution_count": 24,
   "metadata": {},
   "outputs": [
    {
     "name": "stdout",
     "output_type": "stream",
     "text": [
      "name chrity\n",
      "age 22\n",
      "level 400\n"
     ]
    }
   ],
   "source": [
    "me = {'name':'chrity', 'age':22, 'level':400}\n",
    "for i, j in me.items():\n",
    "    print(i, j)"
   ]
  },
  {
   "cell_type": "code",
   "execution_count": null,
   "metadata": {},
   "outputs": [],
   "source": []
  }
 ],
 "metadata": {
  "kernelspec": {
   "display_name": "Python 3",
   "language": "python",
   "name": "python3"
  },
  "language_info": {
   "codemirror_mode": {
    "name": "ipython",
    "version": 3
   },
   "file_extension": ".py",
   "mimetype": "text/x-python",
   "name": "python",
   "nbconvert_exporter": "python",
   "pygments_lexer": "ipython3",
   "version": "3.12.1"
  }
 },
 "nbformat": 4,
 "nbformat_minor": 2
}
